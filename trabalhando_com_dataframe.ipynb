{
 "cells": [
  {
   "cell_type": "markdown",
   "id": "significant-briefing",
   "metadata": {},
   "source": [
    "# Importando dados e bibliotecas a serem usadas"
   ]
  },
  {
   "cell_type": "code",
   "execution_count": 1,
   "id": "cloudy-setting",
   "metadata": {},
   "outputs": [],
   "source": [
    "import pandas as pd"
   ]
  },
  {
   "cell_type": "code",
   "execution_count": null,
   "id": "basic-slovenia",
   "metadata": {},
   "outputs": [],
   "source": []
  }
 ],
 "metadata": {
  "kernelspec": {
   "display_name": "virtual",
   "language": "python",
   "name": "virtual"
  },
  "language_info": {
   "codemirror_mode": {
    "name": "ipython",
    "version": 3
   },
   "file_extension": ".py",
   "mimetype": "text/x-python",
   "name": "python",
   "nbconvert_exporter": "python",
   "pygments_lexer": "ipython3",
   "version": "3.8.5"
  }
 },
 "nbformat": 4,
 "nbformat_minor": 5
}
